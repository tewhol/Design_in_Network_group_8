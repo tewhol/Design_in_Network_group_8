{
 "cells": [
  {
   "cell_type": "code",
   "execution_count": 2,
   "metadata": {
    "ExecuteTime": {
     "end_time": "2024-02-28T11:06:15.208229Z",
     "start_time": "2024-02-28T11:06:12.479806600Z"
    }
   },
   "outputs": [
    {
     "name": "stdout",
     "output_type": "stream",
     "text": [
      "Requirement already satisfied: networkx in c:\\users\\timew\\pycharmprojects\\design_in_network_group_8_interpreter\\lib\\site-packages (3.2.1)\n"
     ]
    },
    {
     "name": "stderr",
     "output_type": "stream",
     "text": [
      "\n",
      "[notice] A new release of pip is available: 23.2.1 -> 24.0\n",
      "[notice] To update, run: python.exe -m pip install --upgrade pip\n"
     ]
    }
   ],
   "source": [
    "!pip install networkx \n",
    "# If networkX is not yet installed, this installs it."
   ]
  },
  {
   "cell_type": "code",
   "execution_count": 4,
   "metadata": {
    "ExecuteTime": {
     "end_time": "2024-02-28T11:06:33.756107200Z",
     "start_time": "2024-02-28T11:06:33.724462100Z"
    }
   },
   "outputs": [],
   "source": [
    "# Import Libraries\n",
    "%matplotlib inline\n",
    "import pandas as pd\n",
    "import numpy as np\n",
    "import matplotlib.pyplot as plt\n",
    "import networkx as nx"
   ]
  },
  {
   "cell_type": "code",
   "execution_count": 5,
   "metadata": {
    "ExecuteTime": {
     "end_time": "2024-02-28T11:06:34.733045300Z",
     "start_time": "2024-02-28T11:06:34.273025Z"
    }
   },
   "outputs": [],
   "source": [
    "# Read in the excel file 'ex-length.xlsx' as a dataframe\n",
    "networkL = pd.read_excel('Data_files/ex-length.xlsx')\n",
    "# Make it a directional graph (see option 'create_using')'\n",
    "nw_graph_l = nx.from_pandas_edgelist(networkL,'From', 'To', ['weight'], create_using=nx.DiGraph)"
   ]
  },
  {
   "cell_type": "code",
   "execution_count": 6,
   "metadata": {
    "ExecuteTime": {
     "end_time": "2024-02-28T11:06:35.749743400Z",
     "start_time": "2024-02-28T11:06:35.717965900Z"
    }
   },
   "outputs": [],
   "source": [
    "# Read in the excel file 'ex-traveltime.xlsx' as a dataframe\n",
    "networkT = pd.read_excel('Data_files/ex-traveltime.xlsx')\n",
    "# Make it a directional graph\n",
    "nw_graph_tt = nx.from_pandas_edgelist(networkT,'From', 'To', ['weight'], create_using=nx.DiGraph)"
   ]
  },
  {
   "cell_type": "code",
   "execution_count": null,
   "metadata": {},
   "outputs": [],
   "source": []
  }
 ],
 "metadata": {
  "kernelspec": {
   "display_name": "Python 3",
   "language": "python",
   "name": "python3"
  },
  "language_info": {
   "codemirror_mode": {
    "name": "ipython",
    "version": 3
   },
   "file_extension": ".py",
   "mimetype": "text/x-python",
   "name": "python",
   "nbconvert_exporter": "python",
   "pygments_lexer": "ipython3",
   "version": "3.7.3"
  }
 },
 "nbformat": 4,
 "nbformat_minor": 2
}
