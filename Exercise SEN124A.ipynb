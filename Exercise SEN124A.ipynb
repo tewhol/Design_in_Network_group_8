{
 "cells": [
  {
   "cell_type": "code",
   "execution_count": null,
   "metadata": {},
   "outputs": [],
   "source": [
    "!pip install networkx # If networkX is not yet installed, this installs it."
   ]
  },
  {
   "cell_type": "code",
   "execution_count": null,
   "metadata": {},
   "outputs": [],
   "source": [
    "# Import Libraries\n",
    "%matplotlib inline\n",
    "import pandas as pd\n",
    "import numpy as np\n",
    "import matplotlib.pyplot as plt\n",
    "import networkx as nx"
   ]
  },
  {
   "cell_type": "code",
   "execution_count": null,
   "metadata": {},
   "outputs": [],
   "source": [
    "# Read in the excel file 'ex-length.xlsx' as a dataframe\n",
    "networkL = pd.read_excel('ex-length.xlsx')\n",
    "# Make it a directional graph (see option 'create_using')'\n",
    "nw_graph_l = nx.from_pandas_edgelist(networkL,'From', 'To', ['weight'], create_using=nx.DiGraph)"
   ]
  },
  {
   "cell_type": "code",
   "execution_count": null,
   "metadata": {},
   "outputs": [],
   "source": [
    "# Read in the excel file 'ex-traveltime.xlsx' as a dataframe\n",
    "networkT = pd.read_excel('ex-traveltime.xlsx')\n",
    "# Make it a directional graph\n",
    "nw_graph_tt = nx.from_pandas_edgelist(networkT,'From', 'To', ['weight'], create_using=nx.DiGraph)"
   ]
  },
  {
   "cell_type": "code",
   "execution_count": null,
   "metadata": {},
   "outputs": [],
   "source": []
  }
 ],
 "metadata": {
  "kernelspec": {
   "display_name": "Python 3",
   "language": "python",
   "name": "python3"
  },
  "language_info": {
   "codemirror_mode": {
    "name": "ipython",
    "version": 3
   },
   "file_extension": ".py",
   "mimetype": "text/x-python",
   "name": "python",
   "nbconvert_exporter": "python",
   "pygments_lexer": "ipython3",
   "version": "3.7.3"
  }
 },
 "nbformat": 4,
 "nbformat_minor": 2
}
